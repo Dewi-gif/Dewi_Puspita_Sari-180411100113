{
 "cells": [
  {
   "cell_type": "code",
   "execution_count": null,
   "metadata": {},
   "outputs": [],
   "source": [
    "import pandas as pd\n",
    "from scipy import stats\n",
    "import numpy as np\n",
    "import seaborn as sns\n",
    "import matplotlib as plt\n",
    "data = pd.read_csv(\"data.csv\",delimiter=\";\")\n",
    "cm = sns.light_palette(\"gold\", as_cmap=True)\n",
    "data.style.background_gradient(cmap=cm)\n",
    "\n",
    "colum = data.columns.tolist()\n",
    "for x in colum :\n",
    "    ds = [x for x in data[x]]\n",
    "    desc = data[x].describe()\n",
    "    array = [x for x in desc]\n",
    "    print(\"Detail kolom\",x)\n",
    "    print(\"rata-rata: \",array[1])\n",
    "    print(\"Median: \",np.median(np.array(ds)))\n",
    "    print(\"Modus: \",stats.mode(ds))\n",
    "    print(\"Standard deviasi: \",np.std(ds))\n",
    "    print(\"varian: \",stats.variation(ds))\n",
    "    print(\"Skewness: \",stats.skew(ds))\n",
    "    print(\"Quartil 1: \",array[4])\n",
    "    print(\"Quartil 2: \",array[5])\n",
    "    print(\"Quartil 3: \",array[6])\n",
    "    sns.distplot(data[x])\n",
    "    \n",
    "    print(\"\\n\")"
   ]
  },
  {
   "cell_type": "code",
   "execution_count": null,
   "metadata": {},
   "outputs": [],
   "source": []
  }
 ],
 "metadata": {
  "kernelspec": {
   "display_name": "Python 3",
   "language": "python",
   "name": "python3"
  }
 },
 "nbformat": 4,
 "nbformat_minor": 2
}
